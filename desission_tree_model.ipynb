{
 "cells": [
  {
   "cell_type": "code",
   "execution_count": 2,
   "metadata": {},
   "outputs": [
    {
     "name": "stdout",
     "output_type": "stream",
     "text": [
      "Collecting pydot\n",
      "  Downloading https://files.pythonhosted.org/packages/33/d1/b1479a770f66d962f545c2101630ce1d5592d90cb4f083d38862e93d16d2/pydot-1.4.1-py2.py3-none-any.whl\n",
      "Requirement already satisfied: pyparsing>=2.1.4 in /usr/lib/python2.7/dist-packages (from pydot) (2.2.0)\n",
      "Installing collected packages: pydot\n",
      "Successfully installed pydot-1.4.1\n"
     ]
    }
   ],
   "source": [
    "!pip install pydot"
   ]
  },
  {
   "cell_type": "code",
   "execution_count": 4,
   "metadata": {},
   "outputs": [],
   "source": [
    "#hello friends am trying decission tree model\n",
    "\n",
    "from sklearn.datasets import load_iris\n",
    "from sklearn.tree import DecisionTreeClassifier\n",
    "from sklearn.model_selection import train_test_split\n",
    "from sklearn.metrics import confusion_matrix\n",
    "from sklearn.tree import export_graphviz\n",
    "from sklearn.externals.six import StringIO \n",
    "from IPython.display import Image \n",
    "from pydot import graph_from_dot_data\n",
    "import pandas as pd\n",
    "import numpy as np"
   ]
  },
  {
   "cell_type": "code",
   "execution_count": 5,
   "metadata": {},
   "outputs": [],
   "source": [
    "#we need to read data here\n",
    "df=pd.read_csv('train.csv')\n",
    "test=pd.read_csv('test.csv')\n"
   ]
  },
  {
   "cell_type": "code",
   "execution_count": 6,
   "metadata": {},
   "outputs": [],
   "source": [
    "df['country']=pd.Categorical(df['country'])\n",
    "df['country']=df.country.cat.codes\n",
    "\n",
    "df['variety']=pd.Categorical(df['variety'])\n",
    "df['variety']=df.variety.cat.codes\n",
    "\n",
    "df['description']=pd.Categorical(df['description'])\n",
    "df['description']=df.description.cat.codes\n",
    "\n",
    "df['designation']=pd.Categorical(df['designation'])\n",
    "df['designation']=df.designation.cat.codes\n",
    "\n",
    "df['province']=pd.Categorical(df['province'])\n",
    "df['province']=df.province.cat.codes\n",
    "\n",
    "df['winery']=pd.Categorical(df['winery'])\n",
    "df['winery']=df.winery.cat.codes\n",
    "\n",
    "\n",
    "test['country']=pd.Categorical(test['country'])\n",
    "test['country']=test.country.cat.codes\n",
    "\n",
    "test['variety']=pd.Categorical(test['variety'])\n",
    "test['variety']=test.variety.cat.codes\n",
    "\n",
    "test['description']=pd.Categorical(test['description'])\n",
    "test['description']=test.description.cat.codes\n",
    "\n",
    "test['designation']=pd.Categorical(test['designation'])\n",
    "test['designation']=test.designation.cat.codes\n",
    "\n",
    "test['province']=pd.Categorical(test['province'])\n",
    "test['province']=test.province.cat.codes\n",
    "\n",
    "test['winery']=pd.Categorical(test['winery'])\n",
    "test['winery']=test.winery.cat.codes"
   ]
  },
  {
   "cell_type": "code",
   "execution_count": 7,
   "metadata": {},
   "outputs": [],
   "source": [
    "train_features=df[['points','winery']]\n",
    "test_features=test[['points','winery']]\n",
    "test_label=test['price']"
   ]
  },
  {
   "cell_type": "code",
   "execution_count": null,
   "metadata": {},
   "outputs": [],
   "source": [
    "dt = DecisionTreeClassifier()\n",
    "dt.fit(train_features, test_label)#Training the model"
   ]
  },
  {
   "cell_type": "code",
   "execution_count": null,
   "metadata": {},
   "outputs": [],
   "source": [
    "#here is just to plot tree of our model\n",
    "dot_data = StringIO()\n",
    "export_graphviz(dt, out_file=dot_data, feature_names=iris.feature_names)\n",
    "(graph, ) = graph_from_dot_data(dot_data.getvalue())\n",
    "Image(graph.create_png())"
   ]
  },
  {
   "cell_type": "code",
   "execution_count": null,
   "metadata": {},
   "outputs": [],
   "source": [
    "y_pred = dt.predict(test_features)"
   ]
  }
 ],
 "metadata": {
  "kernelspec": {
   "display_name": "Python 2",
   "language": "python",
   "name": "python2"
  },
  "language_info": {
   "codemirror_mode": {
    "name": "ipython",
    "version": 2
   },
   "file_extension": ".py",
   "mimetype": "text/x-python",
   "name": "python",
   "nbconvert_exporter": "python",
   "pygments_lexer": "ipython2",
   "version": "2.7.16"
  }
 },
 "nbformat": 4,
 "nbformat_minor": 2
}
